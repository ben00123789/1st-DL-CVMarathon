{
 "cells": [
  {
   "cell_type": "markdown",
   "metadata": {},
   "source": [
    "## 『本次練習內容』\n",
    "#### 運用這幾天所學觀念搭建一個CNN分類器"
   ]
  },
  {
   "cell_type": "markdown",
   "metadata": {},
   "source": [
    "## 『本次練習目的』\n",
    "  #### 熟悉CNN分類器搭建步驟與原理\n",
    "  #### 學員們可以嘗試不同搭法，如使用不同的Maxpooling層，用GlobalAveragePooling取代Flatten等等"
   ]
  },
  {
   "cell_type": "code",
   "execution_count": 57,
   "metadata": {},
   "outputs": [],
   "source": [
    "import keras\n",
    "from keras.preprocessing.image import ImageDataGenerator\n",
    "from keras.models import Sequential\n",
    "from keras.layers import Convolution2D\n",
    "from keras.layers import MaxPooling2D\n",
    "from keras.layers import AveragePooling2D\n",
    "from keras.layers import Flatten\n",
    "from keras.layers import Dense\n",
    "from keras.layers import Dropout\n",
    "from keras.layers import LeakyReLU\n",
    "from keras.layers import BatchNormalization\n",
    "from keras.layers import GlobalAveragePooling2D\n",
    "from keras.datasets import cifar10\n",
    "import numpy as np\n",
    "import tensorflow as tf\n",
    "from sklearn.preprocessing import OneHotEncoder\n"
   ]
  },
  {
   "cell_type": "code",
   "execution_count": 51,
   "metadata": {},
   "outputs": [
    {
     "name": "stdout",
     "output_type": "stream",
     "text": [
      "(50000, 32, 32, 3)\n"
     ]
    }
   ],
   "source": [
    "(x_train, y_train), (x_test, y_test) = cifar10.load_data()\n",
    "\n",
    "print(x_train.shape) #(50000, 32, 32, 3)\n",
    "\n",
    "## Normalize Data\n",
    "def normalize(X_train,X_test):\n",
    "        mean = np.mean(X_train,axis=0)\n",
    "        std = np.std(X_train, axis=0)\n",
    "        X_train = (X_train-mean)/(std+1e-7)\n",
    "        X_test = (X_test-mean)/(std+1e-7) \n",
    "        return X_train, X_test,mean,std\n",
    "    \n",
    "    \n",
    "## Normalize Training and Testset    \n",
    "x_train, x_test,mean_train,std_train = normalize(x_train, x_test) "
   ]
  },
  {
   "cell_type": "code",
   "execution_count": 53,
   "metadata": {},
   "outputs": [
    {
     "name": "stderr",
     "output_type": "stream",
     "text": [
      "C:\\Users\\ben00\\Anaconda3\\envs\\CV\\lib\\site-packages\\sklearn\\preprocessing\\_encoders.py:415: FutureWarning: The handling of integer data will change in version 0.22. Currently, the categories are determined based on the range [0, max(values)], while in the future they will be determined based on the unique values.\n",
      "If you want the future behaviour and silence this warning, you can specify \"categories='auto'\".\n",
      "In case you used a LabelEncoder before this OneHotEncoder to convert the categories to integers, then you can now use the OneHotEncoder directly.\n",
      "  warnings.warn(msg, FutureWarning)\n"
     ]
    }
   ],
   "source": [
    "## OneHot Label 由(None, 1)-(None, 10)\n",
    "## ex. label=2,變成[0,0,1,0,0,0,0,0,0,0]\n",
    "one_hot=OneHotEncoder()\n",
    "y_train=one_hot.fit_transform(y_train).toarray()\n",
    "y_test=one_hot.transform(y_test).toarray()"
   ]
  },
  {
   "cell_type": "code",
   "execution_count": 70,
   "metadata": {},
   "outputs": [
    {
     "name": "stderr",
     "output_type": "stream",
     "text": [
      "C:\\Users\\ben00\\Anaconda3\\envs\\CV\\lib\\site-packages\\ipykernel_launcher.py:40: UserWarning: Update your `Dense` call to the Keras 2 API: `Dense(activation=\"sigmoid\", units=10)`\n"
     ]
    },
    {
     "name": "stdout",
     "output_type": "stream",
     "text": [
      "_________________________________________________________________\n",
      "Layer (type)                 Output Shape              Param #   \n",
      "=================================================================\n",
      "conv2d_164 (Conv2D)          (None, 32, 32, 32)        896       \n",
      "_________________________________________________________________\n",
      "batch_normalization_151 (Bat (None, 32, 32, 32)        128       \n",
      "_________________________________________________________________\n",
      "max_pooling2d_44 (MaxPooling (None, 16, 16, 32)        0         \n",
      "_________________________________________________________________\n",
      "conv2d_165 (Conv2D)          (None, 16, 16, 32)        1056      \n",
      "_________________________________________________________________\n",
      "leaky_re_lu_38 (LeakyReLU)   (None, 16, 16, 32)        0         \n",
      "_________________________________________________________________\n",
      "batch_normalization_152 (Bat (None, 16, 16, 32)        128       \n",
      "_________________________________________________________________\n",
      "conv2d_166 (Conv2D)          (None, 10, 10, 32)        9248      \n",
      "_________________________________________________________________\n",
      "batch_normalization_153 (Bat (None, 10, 10, 32)        128       \n",
      "_________________________________________________________________\n",
      "conv2d_167 (Conv2D)          (None, 10, 10, 32)        1056      \n",
      "_________________________________________________________________\n",
      "batch_normalization_154 (Bat (None, 10, 10, 32)        128       \n",
      "_________________________________________________________________\n",
      "conv2d_168 (Conv2D)          (None, 8, 8, 32)          9248      \n",
      "_________________________________________________________________\n",
      "dropout_33 (Dropout)         (None, 8, 8, 32)          0         \n",
      "_________________________________________________________________\n",
      "global_average_pooling2d_25  (None, 32)                0         \n",
      "_________________________________________________________________\n",
      "dense_56 (Dense)             (None, 10)                330       \n",
      "=================================================================\n",
      "Total params: 22,346\n",
      "Trainable params: 22,090\n",
      "Non-trainable params: 256\n",
      "_________________________________________________________________\n",
      "Train on 50000 samples, validate on 10000 samples\n",
      "Epoch 1/40\n",
      "50000/50000 [==============================] - 15s 299us/step - loss: 1.7542 - acc: 0.3240 - val_loss: 1.4367 - val_acc: 0.4741\n",
      "Epoch 2/40\n",
      "50000/50000 [==============================] - 7s 144us/step - loss: 1.3247 - acc: 0.5189 - val_loss: 1.2516 - val_acc: 0.5510\n",
      "Epoch 3/40\n",
      "50000/50000 [==============================] - 7s 145us/step - loss: 1.1765 - acc: 0.5774 - val_loss: 1.1535 - val_acc: 0.5855\n",
      "Epoch 4/40\n",
      "50000/50000 [==============================] - 7s 143us/step - loss: 1.0972 - acc: 0.6085 - val_loss: 1.0667 - val_acc: 0.6168\n",
      "Epoch 5/40\n",
      "50000/50000 [==============================] - 7s 144us/step - loss: 1.0460 - acc: 0.6257 - val_loss: 1.0255 - val_acc: 0.6361\n",
      "Epoch 6/40\n",
      "50000/50000 [==============================] - 7s 143us/step - loss: 0.9973 - acc: 0.6429 - val_loss: 0.9982 - val_acc: 0.6514\n",
      "Epoch 7/40\n",
      "50000/50000 [==============================] - 7s 144us/step - loss: 0.9633 - acc: 0.6580 - val_loss: 0.9706 - val_acc: 0.6614\n",
      "Epoch 8/40\n",
      "50000/50000 [==============================] - 7s 144us/step - loss: 0.9349 - acc: 0.6691 - val_loss: 0.9383 - val_acc: 0.6709\n",
      "Epoch 9/40\n",
      "50000/50000 [==============================] - 7s 142us/step - loss: 0.9105 - acc: 0.6781 - val_loss: 0.9193 - val_acc: 0.6780\n",
      "Epoch 10/40\n",
      "50000/50000 [==============================] - 7s 142us/step - loss: 0.8903 - acc: 0.6864 - val_loss: 0.9018 - val_acc: 0.6837\n",
      "Epoch 11/40\n",
      "50000/50000 [==============================] - 7s 146us/step - loss: 0.8693 - acc: 0.6936 - val_loss: 0.8856 - val_acc: 0.6889\n",
      "Epoch 12/40\n",
      "50000/50000 [==============================] - 7s 146us/step - loss: 0.8552 - acc: 0.6993 - val_loss: 0.8842 - val_acc: 0.6884\n",
      "Epoch 13/40\n",
      "50000/50000 [==============================] - 7s 144us/step - loss: 0.8373 - acc: 0.7064 - val_loss: 0.8599 - val_acc: 0.7001\n",
      "Epoch 14/40\n",
      "50000/50000 [==============================] - 7s 145us/step - loss: 0.8242 - acc: 0.7117 - val_loss: 0.8521 - val_acc: 0.7021\n",
      "Epoch 15/40\n",
      "50000/50000 [==============================] - 7s 144us/step - loss: 0.8103 - acc: 0.7149 - val_loss: 0.8487 - val_acc: 0.7019\n",
      "Epoch 16/40\n",
      "50000/50000 [==============================] - 7s 143us/step - loss: 0.7980 - acc: 0.7206 - val_loss: 0.8300 - val_acc: 0.7122\n",
      "Epoch 17/40\n",
      "50000/50000 [==============================] - 7s 144us/step - loss: 0.7854 - acc: 0.7244 - val_loss: 0.8278 - val_acc: 0.7139\n",
      "Epoch 18/40\n",
      "50000/50000 [==============================] - 7s 144us/step - loss: 0.7737 - acc: 0.7292 - val_loss: 0.8120 - val_acc: 0.7185\n",
      "Epoch 19/40\n",
      "50000/50000 [==============================] - 8s 154us/step - loss: 0.7637 - acc: 0.7328 - val_loss: 0.8201 - val_acc: 0.7150\n",
      "Epoch 20/40\n",
      "50000/50000 [==============================] - 8s 155us/step - loss: 0.7543 - acc: 0.7362 - val_loss: 0.8016 - val_acc: 0.7210\n",
      "Epoch 21/40\n",
      "50000/50000 [==============================] - 7s 145us/step - loss: 0.7461 - acc: 0.7388 - val_loss: 0.8180 - val_acc: 0.7183\n",
      "Epoch 22/40\n",
      "50000/50000 [==============================] - 7s 145us/step - loss: 0.7368 - acc: 0.7416 - val_loss: 0.7932 - val_acc: 0.7217\n",
      "Epoch 23/40\n",
      "50000/50000 [==============================] - 7s 145us/step - loss: 0.7262 - acc: 0.7468 - val_loss: 0.7869 - val_acc: 0.7310\n",
      "Epoch 24/40\n",
      "50000/50000 [==============================] - 8s 155us/step - loss: 0.7235 - acc: 0.7480 - val_loss: 0.7846 - val_acc: 0.7239\n",
      "Epoch 25/40\n",
      "50000/50000 [==============================] - 7s 147us/step - loss: 0.7151 - acc: 0.7493 - val_loss: 0.7736 - val_acc: 0.7322\n",
      "Epoch 26/40\n",
      "50000/50000 [==============================] - 7s 148us/step - loss: 0.7056 - acc: 0.7554 - val_loss: 0.7729 - val_acc: 0.7339\n",
      "Epoch 27/40\n",
      "50000/50000 [==============================] - 7s 143us/step - loss: 0.6972 - acc: 0.7576 - val_loss: 0.7707 - val_acc: 0.7314\n",
      "Epoch 28/40\n",
      "50000/50000 [==============================] - 7s 143us/step - loss: 0.6919 - acc: 0.7574 - val_loss: 0.7643 - val_acc: 0.7339\n",
      "Epoch 29/40\n",
      "50000/50000 [==============================] - 7s 143us/step - loss: 0.6869 - acc: 0.7608 - val_loss: 0.7670 - val_acc: 0.7309\n",
      "Epoch 30/40\n",
      "50000/50000 [==============================] - 7s 142us/step - loss: 0.6821 - acc: 0.7618 - val_loss: 0.7630 - val_acc: 0.7337\n",
      "Epoch 31/40\n",
      "50000/50000 [==============================] - 7s 143us/step - loss: 0.6754 - acc: 0.7654 - val_loss: 0.7698 - val_acc: 0.7335\n",
      "Epoch 32/40\n",
      "50000/50000 [==============================] - 7s 143us/step - loss: 0.6709 - acc: 0.7660 - val_loss: 0.7530 - val_acc: 0.7420\n",
      "Epoch 33/40\n",
      "50000/50000 [==============================] - 7s 143us/step - loss: 0.6673 - acc: 0.7663 - val_loss: 0.7712 - val_acc: 0.7339\n",
      "Epoch 34/40\n",
      "50000/50000 [==============================] - 7s 148us/step - loss: 0.6625 - acc: 0.7695 - val_loss: 0.7492 - val_acc: 0.7405\n",
      "Epoch 35/40\n",
      "50000/50000 [==============================] - 7s 147us/step - loss: 0.6538 - acc: 0.7714 - val_loss: 0.7548 - val_acc: 0.7421\n",
      "Epoch 36/40\n",
      "50000/50000 [==============================] - 7s 140us/step - loss: 0.6513 - acc: 0.7731 - val_loss: 0.7534 - val_acc: 0.7416\n",
      "Epoch 37/40\n",
      "50000/50000 [==============================] - 7s 141us/step - loss: 0.6455 - acc: 0.7771 - val_loss: 0.7329 - val_acc: 0.7506\n",
      "Epoch 38/40\n",
      "50000/50000 [==============================] - 7s 141us/step - loss: 0.6437 - acc: 0.7740 - val_loss: 0.7442 - val_acc: 0.7466\n",
      "Epoch 39/40\n",
      "50000/50000 [==============================] - 7s 140us/step - loss: 0.6398 - acc: 0.7753 - val_loss: 0.7312 - val_acc: 0.7487\n",
      "Epoch 40/40\n",
      "50000/50000 [==============================] - 7s 140us/step - loss: 0.6357 - acc: 0.7785 - val_loss: 0.7403 - val_acc: 0.7454\n"
     ]
    }
   ],
   "source": [
    "\n",
    "classifier=Sequential()\n",
    "\n",
    "#卷積組合 \n",
    "classifier.add(Convolution2D(32, (3, 3), padding='same', input_shape = (32, 32, 3), activation='relu'))#32,3,3,input_shape=(32,32,3),activation='relu''\n",
    "#classifier.add(LeakyReLU())\n",
    "classifier.add(BatchNormalization())\n",
    "\n",
    "'''自己決定MaxPooling2D放在哪裡'''\n",
    "classifier.add(MaxPooling2D(pool_size=(2,2)))\n",
    "\n",
    "#卷積組合\n",
    "classifier.add(Convolution2D(32, (1, 1)))\n",
    "classifier.add(LeakyReLU())\n",
    "classifier.add(BatchNormalization())\n",
    "\n",
    "#卷積組合\n",
    "classifier.add(Convolution2D(32, (3, 3), padding='valid', dilation_rate=3, activation='relu'))\n",
    "classifier.add(BatchNormalization())\n",
    "\n",
    "classifier.add(Convolution2D(32, (1, 1), activation='relu'))\n",
    "classifier.add(BatchNormalization())\n",
    "\n",
    "#卷積組合\n",
    "classifier.add(Convolution2D(32, (3, 3), padding='valid', activation='relu'))\n",
    "#classifier.add(BatchNormalization())\n",
    "classifier.add(Dropout(0.3))\n",
    "\n",
    "#flatten\n",
    "#classifier.add(Flatten())\n",
    "\n",
    "#FC\n",
    "#classifier.add(Dense(32, activation='relu')) #output_dim=100,activation=relu\n",
    "\n",
    "#GAP\n",
    "classifier.add(GlobalAveragePooling2D())\n",
    "\n",
    "#輸出\n",
    "classifier.add(Dense(output_dim=10,activation='sigmoid'))\n",
    "\n",
    "#超過兩個就要選categorical_crossentrophy\n",
    "classifier.compile(optimizer = keras.optimizers.Adam(lr=3e-4), loss = 'categorical_crossentropy', metrics = ['accuracy'])\n",
    "classifier.summary()\n",
    "history = classifier.fit(x_train,y_train,batch_size=128,epochs=40, validation_data=(x_test, y_test))\n",
    "#history = classifier.fit_generator(datagen.flow(x_train, y_train, batch_size=256), steps_per_epoch=len(x_train)/256, epochs=50)"
   ]
  },
  {
   "cell_type": "code",
   "execution_count": 71,
   "metadata": {},
   "outputs": [
    {
     "name": "stdout",
     "output_type": "stream",
     "text": [
      "10000/10000 [==============================] - 2s 224us/step\n"
     ]
    },
    {
     "data": {
      "text/plain": [
       "[0.7402712723731995, 0.7454]"
      ]
     },
     "execution_count": 71,
     "metadata": {},
     "output_type": "execute_result"
    }
   ],
   "source": [
    "classifier.evaluate(x_test, y_test)"
   ]
  },
  {
   "cell_type": "markdown",
   "metadata": {},
   "source": [
    "## 預測新圖片，輸入影像前處理要與訓練時相同\n",
    "#### ((X-mean)/(std+1e-7) ):這裡的mean跟std是訓練集的\n",
    "## 維度如下方示範"
   ]
  },
  {
   "cell_type": "code",
   "execution_count": 72,
   "metadata": {},
   "outputs": [
    {
     "data": {
      "text/plain": [
       "array([[7.3045492e-05, 1.2814999e-06, 9.8924935e-03, 6.1580187e-01,\n",
       "        2.4622229e-01, 7.0665866e-02, 9.9197626e-03, 3.9208174e-02,\n",
       "        4.5180370e-04, 1.1511699e-05]], dtype=float32)"
      ]
     },
     "execution_count": 72,
     "metadata": {},
     "output_type": "execute_result"
    }
   ],
   "source": [
    "input_example=(np.zeros(shape=(1,32,32,3))-mean_train)/(std_train+1e-7) \n",
    "classifier.predict(input_example)"
   ]
  },
  {
   "cell_type": "code",
   "execution_count": null,
   "metadata": {},
   "outputs": [],
   "source": []
  }
 ],
 "metadata": {
  "kernelspec": {
   "display_name": "Python 3",
   "language": "python",
   "name": "python3"
  },
  "language_info": {
   "codemirror_mode": {
    "name": "ipython",
    "version": 3
   },
   "file_extension": ".py",
   "mimetype": "text/x-python",
   "name": "python",
   "nbconvert_exporter": "python",
   "pygments_lexer": "ipython3",
   "version": "3.7.4"
  }
 },
 "nbformat": 4,
 "nbformat_minor": 2
}
